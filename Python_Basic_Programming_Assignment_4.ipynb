{
 "cells": [
  {
   "cell_type": "markdown",
   "id": "007c9b37",
   "metadata": {},
   "source": [
    "1.\tWrite a Python Program to Find the Factorial of a Number?"
   ]
  },
  {
   "cell_type": "code",
   "execution_count": 13,
   "id": "75cfac79",
   "metadata": {},
   "outputs": [
    {
     "name": "stdout",
     "output_type": "stream",
     "text": [
      "enter num = 9\n",
      "factorial = 362880\n"
     ]
    }
   ],
   "source": [
    "num = int(input('enter num = '))\n",
    "fact = 1\n",
    "i = 1\n",
    "while i <= num :\n",
    "    fact = fact*i\n",
    "    i = i+1\n",
    "\n",
    "print('factorial =', fact)\n"
   ]
  },
  {
   "cell_type": "markdown",
   "id": "dbc6739b",
   "metadata": {},
   "source": [
    "2.\tWrite a Python Program to Display the multiplication Table?"
   ]
  },
  {
   "cell_type": "code",
   "execution_count": 17,
   "id": "b1b7bb7a",
   "metadata": {},
   "outputs": [
    {
     "name": "stdout",
     "output_type": "stream",
     "text": [
      "enter num = 5\n",
      "5 X 1 = 5\n",
      "5 X 2 = 10\n",
      "5 X 3 = 15\n",
      "5 X 4 = 20\n",
      "5 X 5 = 25\n",
      "5 X 6 = 30\n",
      "5 X 7 = 35\n",
      "5 X 8 = 40\n",
      "5 X 9 = 45\n",
      "5 X 10 = 50\n"
     ]
    }
   ],
   "source": [
    "num = int(input('enter num = '))\n",
    "for i in range(1,11) :\n",
    "    print (num, 'X', i, '=', num*i )"
   ]
  },
  {
   "cell_type": "markdown",
   "id": "79719d6f",
   "metadata": {},
   "source": [
    "3.\tWrite a Python Program to Print the Fibonacci sequence?"
   ]
  },
  {
   "cell_type": "code",
   "execution_count": 25,
   "id": "f26e232c",
   "metadata": {},
   "outputs": [
    {
     "name": "stdout",
     "output_type": "stream",
     "text": [
      "enter num = 10\n",
      "0\n",
      "1\n",
      "1\n",
      "2\n",
      "3\n",
      "5\n",
      "8\n",
      "13\n",
      "21\n",
      "34\n"
     ]
    }
   ],
   "source": [
    "num = int(input('enter num = '))\n",
    "a = 0\n",
    "b = 1\n",
    "sum = 0\n",
    "count = 1\n",
    "while count <= num :\n",
    "    print(sum)\n",
    "    count = count +1\n",
    "    a = b\n",
    "    b = sum\n",
    "    sum = a+b "
   ]
  },
  {
   "cell_type": "markdown",
   "id": "b85ea8f3",
   "metadata": {},
   "source": [
    "4.\tWrite a Python Program to Check Armstrong Number?"
   ]
  },
  {
   "cell_type": "code",
   "execution_count": null,
   "id": "4fe1cf10",
   "metadata": {},
   "outputs": [],
   "source": [
    "num = int(input('enter num = '))\n",
    "for i in range (num) :\n",
    "    sum = i**3"
   ]
  },
  {
   "cell_type": "markdown",
   "id": "6d00b3f0",
   "metadata": {},
   "source": [
    "6.\tWrite a Python Program to Find the Sum of Natural Numbers?"
   ]
  },
  {
   "cell_type": "code",
   "execution_count": 27,
   "id": "2e25eab0",
   "metadata": {},
   "outputs": [
    {
     "name": "stdout",
     "output_type": "stream",
     "text": [
      "enter num = 10\n",
      "The sum is 55\n"
     ]
    }
   ],
   "source": [
    "num = int(input('enter num = '))\n",
    "sum = 0\n",
    "while(num > 0):\n",
    "    sum += num\n",
    "    num -= 1\n",
    "print(\"The sum is\", sum)"
   ]
  },
  {
   "cell_type": "code",
   "execution_count": null,
   "id": "23c6c696",
   "metadata": {},
   "outputs": [],
   "source": []
  },
  {
   "cell_type": "code",
   "execution_count": null,
   "id": "ba1cbe88",
   "metadata": {},
   "outputs": [],
   "source": []
  },
  {
   "cell_type": "code",
   "execution_count": null,
   "id": "19876a1b",
   "metadata": {},
   "outputs": [],
   "source": []
  }
 ],
 "metadata": {
  "kernelspec": {
   "display_name": "Python 3",
   "language": "python",
   "name": "python3"
  },
  "language_info": {
   "codemirror_mode": {
    "name": "ipython",
    "version": 3
   },
   "file_extension": ".py",
   "mimetype": "text/x-python",
   "name": "python",
   "nbconvert_exporter": "python",
   "pygments_lexer": "ipython3",
   "version": "3.8.8"
  }
 },
 "nbformat": 4,
 "nbformat_minor": 5
}
